{
 "cells": [
  {
   "cell_type": "markdown",
   "metadata": {},
   "source": [
    "# Лескевич Даниил Казимирович Б05-903"
   ]
  },
  {
   "cell_type": "markdown",
   "metadata": {},
   "source": [
    "### Предварительные сведения"
   ]
  },
  {
   "cell_type": "markdown",
   "metadata": {},
   "source": [
    "Векторные нормы:\n",
    "\n",
    "$||u||_{\\infty} = \\max_i|u_i|$\n",
    "\n",
    "$||u||_1 = \\sum_i |u_i|$\n",
    "\n",
    "$||u||_2 = \\left(\\sum_i |u_i|^2 \\right)^{\\frac{1}{2}}$\n",
    "\n",
    "Матричные нормы:\n",
    "\n",
    "$||A||_{\\infty} = \\max_i \\sum_j |a_{ij}|$\n",
    "\n",
    "$||A||_1 = \\max_j \\sum_i |a_{ij}|$\n",
    "\n",
    "$||A||_2 = \\left(\\max_i \\lambda_i(A A^*) \\right)^{\\frac{1}{2}}$"
   ]
  },
  {
   "cell_type": "markdown",
   "metadata": {},
   "source": [
    "Контрольный вопрос: какова будет вторая норма матрицы, если матрица самосопряженная?\n",
    "\n",
    "Ваш ответ на контрольный вопрос: $||A||_2 =\\max_i |\\lambda_i|$"
   ]
  },
  {
   "cell_type": "code",
   "execution_count": 1,
   "metadata": {},
   "outputs": [
    {
     "name": "stdout",
     "output_type": "stream",
     "text": [
      "norm_1 =  5.0\n",
      "norm_2 =  4.844958524498339\n",
      "norm_inf =  7.0\n"
     ]
    },
    {
     "data": {
      "text/plain": [
       "array([[0, 0, 1],\n",
       "       [1, 1, 1],\n",
       "       [4, 2, 1]])"
      ]
     },
     "execution_count": 1,
     "metadata": {},
     "output_type": "execute_result"
    }
   ],
   "source": [
    "import numpy as np\n",
    "import numpy.linalg as la\n",
    "\n",
    "A = np.array([[1,2],[3,4]])\n",
    "v = range(0,3)\n",
    "Vander = np.vander(v)\n",
    "print('norm_1 = ', la.norm(Vander, 1))\n",
    "print('norm_2 = ', la.norm(Vander, 2))\n",
    "print('norm_inf = ', la.norm(Vander, np.inf))\n",
    "Vander"
   ]
  },
  {
   "cell_type": "markdown",
   "metadata": {},
   "source": [
    "Обусловленность:\n",
    "$$(A+\\delta A)u = f + \\delta f$$\n",
    "$$\\frac{||\\delta u||}{||u||}\\le \\frac{\\mu}{1-\\mu\\frac{||\\delta A||}{||A||}} \\left(\\frac{||\\delta f||}{||f||}+\\frac{||\\delta A||}{||A||}\\right)$$\n",
    "\n",
    "$\\mu$ - число обусловленности матрицы A, $\\mu(A) = ||A^{-1}||\\cdot||A||$, $\\mu \\ge 1$.\n",
    "\n"
   ]
  },
  {
   "cell_type": "markdown",
   "metadata": {},
   "source": [
    "## Пример проблемы использования метода Гаусса для решения СЛАУ"
   ]
  },
  {
   "cell_type": "code",
   "execution_count": 2,
   "metadata": {},
   "outputs": [],
   "source": [
    "import numpy as np\n",
    "import numpy.linalg as la\n",
    "\n",
    "#функция меняет A и b\n",
    "def gauss( A, b):\n",
    "    n = b.size\n",
    "    for k in range(0,n-1):\n",
    "        for i in range(k+1,n):\n",
    "            if A[i,k]!=0:\n",
    "                c = A[i,k]/A[k,k]\n",
    "                A[i,k+1:n] = A[i,k+1:n] - c*A[k,k+1:n]\n",
    "                #было непонятно почему А не треугольнатая\n",
    "                #A[i,k:n] = A[i,k:n] - c*A[k,k:n] так A привелась бы к треугольному виду\n",
    "                b[i] = b[i] - c*b[k]\n",
    "                \n",
    "    # обратный ход\n",
    "    for k in range(n-1,-1,-1):\n",
    "        b[k] = (b[k] - np.dot(A[k,k+1:n],b[k+1:n]))/A[k,k];\n",
    "    return b\n",
    "\n",
    "#все числа в представлены как вещественные\n",
    "A1 = np.array([[1e-16, 1., -1.], [-1., 2., -1.], [2., -1., 0.]]);\n",
    "b1 = np.array([0., 0., 1.]);\n",
    "\n",
    "A2 = np.array([[2., -1., 0.], [-1., 2., -1.], [1e-16, 1., -1.]])\n",
    "b2 = np.array([1., 0., 0.])"
   ]
  },
  {
   "cell_type": "code",
   "execution_count": 3,
   "metadata": {},
   "outputs": [
    {
     "name": "stdout",
     "output_type": "stream",
     "text": [
      "[[ 2.e+00 -1.e+00  0.e+00]\n",
      " [-1.e+00  2.e+00 -1.e+00]\n",
      " [ 1.e-16  1.e+00 -1.e+00]]\n",
      "u2 =  [1. 1. 1.]\n"
     ]
    }
   ],
   "source": [
    "print(A2)\n",
    "print('u2 = ', gauss(A2, b2))#la.solve(A2, b2))"
   ]
  },
  {
   "cell_type": "code",
   "execution_count": 4,
   "metadata": {},
   "outputs": [
    {
     "name": "stdout",
     "output_type": "stream",
     "text": [
      "[[ 2.00000000e+00 -1.00000000e+00  0.00000000e+00]\n",
      " [-1.00000000e+00  1.50000000e+00 -1.00000000e+00]\n",
      " [ 1.00000000e-16  1.00000000e+00 -3.33333333e-01]]\n"
     ]
    }
   ],
   "source": [
    "print(A2)"
   ]
  },
  {
   "cell_type": "code",
   "execution_count": 5,
   "metadata": {},
   "outputs": [
    {
     "name": "stdout",
     "output_type": "stream",
     "text": [
      "mu1 =  16.39373162228438\n",
      "mu2 =  16.393731622284395\n",
      "u1 =  [0.55511151 0.25       0.25      ]\n",
      "u2 =  [1. 1. 1.]\n"
     ]
    }
   ],
   "source": [
    "A1 = np.array([[1e-16, 1., -1.], [-1., 2., -1.], [2., -1., 0.]]);\n",
    "b1 = np.array([0., 0., 1.]);\n",
    "\n",
    "A2 = np.array([[2., -1., 0.], [-1., 2., -1.], [1e-16, 1., -1.]])\n",
    "b2 = np.array([1., 0., 0.])\n",
    "\n",
    "print('mu1 = ', la.cond(A1))\n",
    "print('mu2 = ', la.cond(A2))\n",
    "\n",
    "print('u1 = ', gauss(A1, b1))\n",
    "#print('u1 = ', la.solve(A1, b1))\n",
    "print('u2 = ', gauss(A2, b2))#la.solve(A2, b2))"
   ]
  },
  {
   "cell_type": "markdown",
   "metadata": {},
   "source": [
    "## Часть 1. LU разложение"
   ]
  },
  {
   "cell_type": "markdown",
   "metadata": {},
   "source": [
    "Задание: \n",
    "\n",
    "реализовать алгоритм решения предыдущей задачи с матрицей A2 с помощью LU-разложение В решении должна выводиться L, U и собственно решение системы. \n",
    "\n",
    "ВАЖНО: реализация метода LU должна быть получена путем небольшой модификации метода gauss!  При это саму реализацию можно разделить на два метода: один метод собственно находит LU разложение (можно сделать переделкой цикла для матрицы A метода gauss), второй метод - непосредственное решение системы с помощью прямого и обратного хода. Ни в каком виде нельзя ползоваться пакетными методами (в частности, la.solve)"
   ]
  },
  {
   "cell_type": "markdown",
   "metadata": {
    "collapsed": true
   },
   "source": [
    "### LU - разложение с помощью пакета sympy"
   ]
  },
  {
   "cell_type": "markdown",
   "metadata": {},
   "source": [
    "Чтобы убедиться, что разложение получено верно, можно воспользоваться скриптом ниже"
   ]
  },
  {
   "cell_type": "code",
   "execution_count": 9,
   "metadata": {},
   "outputs": [
    {
     "data": {
      "text/latex": [
       "$\\displaystyle \\left[\\begin{matrix}1 & 0\\\\\\frac{5}{2} & 1\\end{matrix}\\right]$"
      ],
      "text/plain": [
       "Matrix([\n",
       "[  1, 0],\n",
       "[5/2, 1]])"
      ]
     },
     "execution_count": 9,
     "metadata": {},
     "output_type": "execute_result"
    }
   ],
   "source": [
    "import sympy as sp\n",
    "import numpy as np\n",
    "\n",
    "#метод гаусса, который сохранит наши переменные в первозданном виде\n",
    "def gauss1( A, b ):\n",
    "    x, y = A.copy(), b.copy()\n",
    "    return gauss(x, y)\n",
    "\n",
    "#вычисление элемента для U\n",
    "def elem_U(x, y, L, U, A):\n",
    "    U[x,y] = A[x, y] \n",
    "    for i in range(x):\n",
    "        U[x,y] -= L[x, i]*U[i,y]\n",
    "    return U[x,y]\n",
    "#вычисление элемента для L\n",
    "def elem_L(x, y, L, U, A):\n",
    "    if U[y,y] != 0:\n",
    "        L[x,y] = A[x, y]\n",
    "        for i in range(y):\n",
    "            L[x,y] -= L[x, i]*U[i,y]\n",
    "        L[x,y] /= U[y,y]\n",
    "    return L[x,y]\n",
    "\n",
    "#LU разложение\n",
    "def LU(A, n):\n",
    "    L = np.eye(n) \n",
    "    U = np.zeros((n, n))\n",
    "    for i in range(n):\n",
    "        for j in range(n):\n",
    "            if i <= j:\n",
    "                U[i,j] =  elem_U(i,j, L, U, A)\n",
    "            else:\n",
    "                L[i,j] = elem_L(i,j, L, U, A) \n",
    "    print(\"L = \\n\", L)\n",
    "    print(\"U = \\n\", U)\n",
    "    return L, U\n",
    "\n",
    "# решение методом LU разложения   \n",
    "def LUsolve(A, b):    \n",
    "    n = b.size\n",
    "    L, U  = LU(A, n) \n",
    "    #далее код взят из функции gauss где A заменено на L в прямом  и на U в обратном\n",
    "    #прямой ход\n",
    "    for k in range(0,n-1):\n",
    "        for i in range(k+1,n):\n",
    "            if L[i,k]!=0:\n",
    "                c = L[i,k]/L[k,k]\n",
    "                L[i,k+1:n] = L[i,k+1:n] - c*L[k,k+1:n]\n",
    "                b[i] = b[i] - c*b[k]\n",
    "                \n",
    "    # обратный ход\n",
    "    for k in range(n-1,-1,-1):\n",
    "        b[k] = (b[k] - np.dot(U[k,k+1:n],b[k+1:n]))/U[k,k];\n",
    "    return b\n",
    "\n",
    "#решение методом LU разложения, который сохранит наши переменные в первозданном виде\n",
    "def LUsolve1(A, b):\n",
    "    x, y = A.copy(), b.copy()\n",
    "    return LUsolve(x, y)\n",
    "b = np.array([-1., 1.])\n",
    "#LUsolve(A, b)   \n",
    "A = sp.Matrix([[2, 3], [5, 4]])\n",
    "\n",
    "L, U, _ = A.LUdecomposition()\n",
    "L"
   ]
  },
  {
   "cell_type": "code",
   "execution_count": 10,
   "metadata": {},
   "outputs": [
    {
     "name": "stdout",
     "output_type": "stream",
     "text": [
      "L = \n",
      " [[1.  0. ]\n",
      " [2.5 1. ]]\n",
      "U = \n",
      " [[ 2.   3. ]\n",
      " [ 0.  -3.5]]\n"
     ]
    },
    {
     "data": {
      "text/plain": [
       "(array([[1. , 0. ],\n",
       "        [2.5, 1. ]]),\n",
       " array([[ 2. ,  3. ],\n",
       "        [ 0. , -3.5]]))"
      ]
     },
     "execution_count": 10,
     "metadata": {},
     "output_type": "execute_result"
    }
   ],
   "source": [
    "LU(A, 2)"
   ]
  },
  {
   "cell_type": "code",
   "execution_count": 13,
   "metadata": {},
   "outputs": [
    {
     "name": "stdout",
     "output_type": "stream",
     "text": [
      "u2 =  [1. 1. 1.]\n",
      "L = \n",
      " [[ 1.00000000e+00  0.00000000e+00  0.00000000e+00]\n",
      " [-5.00000000e-01  1.00000000e+00  0.00000000e+00]\n",
      " [ 5.00000000e-17  6.66666667e-01  1.00000000e+00]]\n",
      "U = \n",
      " [[ 2.         -1.          0.        ]\n",
      " [ 0.          1.5        -1.        ]\n",
      " [ 0.          0.         -0.33333333]]\n",
      "lu2 =  [1. 1. 1.]\n"
     ]
    }
   ],
   "source": [
    "#некрасиво, но быстро, т.к. мы используем функции, которые меняют матрицы А и b\n",
    "A2 = np.array([[2., -1., 0.], [-1., 2., -1.], [1e-16, 1., -1.]])\n",
    "b2 = np.array([1., 0., 0.])\n",
    "print('u2 = ', gauss(A2, b2))\n",
    "A2 = np.array([[2., -1., 0.], [-1., 2., -1.], [1e-16, 1., -1.]])\n",
    "b2 = np.array([1., 0., 0.])\n",
    "print('lu2 = ', LUsolve(A2,b2))"
   ]
  },
  {
   "cell_type": "code",
   "execution_count": 14,
   "metadata": {},
   "outputs": [
    {
     "name": "stdout",
     "output_type": "stream",
     "text": [
      "L = \n",
      " [[ 1.00000000e+00  0.00000000e+00  0.00000000e+00]\n",
      " [-5.00000000e-01  1.00000000e+00  0.00000000e+00]\n",
      " [ 5.00000000e-17  6.66666667e-01  1.00000000e+00]]\n",
      "U = \n",
      " [[ 2.         -1.          0.        ]\n",
      " [ 0.          1.5        -1.        ]\n",
      " [ 0.          0.         -0.33333333]]\n",
      "lu2 =  [1. 1. 1.]\n",
      "u2 =  [1. 1. 1.]\n"
     ]
    }
   ],
   "source": [
    "#красиво, но медленно,тратим время на копирование исходных матриц, но зато сохраняем их в первозданном виде для потомков:)\n",
    "A2 = np.array([[2., -1., 0.], [-1., 2., -1.], [1e-16, 1., -1.]])\n",
    "b2 = np.array([1., 0., 0.])\n",
    "print('lu2 = ', LUsolve1(A2,b2))\n",
    "print('u2 = ', gauss1(A2, b2))"
   ]
  },
  {
   "cell_type": "markdown",
   "metadata": {},
   "source": [
    "## Часть 2. Нахождение обратной матрицы с помощью LU разложения"
   ]
  },
  {
   "cell_type": "markdown",
   "metadata": {},
   "source": [
    "Задание:\n",
    "\n",
    "Предложить алгоритм с использованием LU-разложения и найти обратную матрицу с точностью $\\epsilon = 10^{-3}$:\n",
    "$$\n",
    "A = \\begin{pmatrix} \n",
    "1 & 1  & 1 \\\\\n",
    "0 & 1 & 2 \\\\\n",
    "7 & 1 & 4 \\\\\n",
    "\\end{pmatrix}\n",
    "$$\n",
    "Для необходимых оценок использовать первую норму. Сравнить результат со значением, найденным с помощью функции numpy.inv."
   ]
  },
  {
   "cell_type": "code",
   "execution_count": 18,
   "metadata": {},
   "outputs": [
    {
     "name": "stdout",
     "output_type": "stream",
     "text": [
      "L = \n",
      " [[ 1.  0.  0.]\n",
      " [ 0.  1.  0.]\n",
      " [ 7. -6.  1.]]\n",
      "U = \n",
      " [[1. 1. 1.]\n",
      " [0. 1. 2.]\n",
      " [0. 0. 9.]]\n",
      "L^{-1} = \n",
      " [[ 1.  0.  0.]\n",
      " [ 0.  1.  0.]\n",
      " [-7.  6.  1.]]\n",
      "U^{-1} = \n",
      " [[ 1.         -1.          0.11111111]\n",
      " [ 0.          1.         -0.22222222]\n",
      " [ 0.          0.          0.11111111]]\n",
      "A^{-1} = \n",
      " [[ 0.22222222 -0.33333333  0.11111111]\n",
      " [ 1.55555556 -0.33333333 -0.22222222]\n",
      " [-0.77777778  0.66666667  0.11111111]]\n",
      "A.inv = \n",
      " [[ 0.22222222 -0.33333333  0.11111111]\n",
      " [ 1.55555556 -0.33333333 -0.22222222]\n",
      " [-0.77777778  0.66666667  0.11111111]]\n",
      "A*my_inv(A) =  [[ 1.0000000e+00  0.0000000e+00  0.0000000e+00]\n",
      " [ 0.0000000e+00  1.0000000e+00  0.0000000e+00]\n",
      " [ 4.4408921e-16 -4.4408921e-16  1.0000000e+00]]\n",
      "A*inv(A) =  [[1.00000000e+00 1.11022302e-16 2.77555756e-17]\n",
      " [0.00000000e+00 1.00000000e+00 0.00000000e+00]\n",
      " [0.00000000e+00 4.44089210e-16 1.00000000e+00]]\n"
     ]
    }
   ],
   "source": [
    "from numpy.linalg import inv\n",
    "A = np.array([[1., 1., 1.], [0., 1., 2.], [7, 1., 4.]])\n",
    "\n",
    "#решаем для L\n",
    "def L_solve(L, b):\n",
    "    n = b.size\n",
    "    x = b.copy()\n",
    "    #прямой ход\n",
    "    for k in range(0,n-1):\n",
    "        for i in range(k+1,n):\n",
    "            if L[i,k]!=0:\n",
    "                c = L[i,k]/L[k,k]\n",
    "                #L[i,k+1:n] = L[i,k+1:n] - c*L[k,k+1:n]\n",
    "                x[i] = x[i] - c*x[k]\n",
    "    return x\n",
    "\n",
    "#решаем для U\n",
    "def U_solve(U, b):\n",
    "    n = b.size\n",
    "    for k in range(n-1,-1,-1):\n",
    "        b[k] = (b[k] - np.dot(U[k,k+1:n],b[k+1:n]))/U[k,k];\n",
    "    return b\n",
    "\n",
    "#\n",
    "def my_inv(A, n):\n",
    "    C = A.copy()\n",
    "    L, U = LU(C, n)#получаем LU разложение\n",
    "    E = np.eye(n)#создаём единичную матрицу\n",
    "    L_1, U_1 = np.zeros((n,n)),np.zeros((n,n))\n",
    "    L_c, U_c = L.copy(), U.copy()\n",
    "    # вычисляем i столбец обратных матриц\n",
    "    for i in range(n):\n",
    "        L_1[i] = L_solve(L_c, E[i])\n",
    "        U_1[i] = U_solve(U_c, E[i])\n",
    "    L_1 = L_1.T\n",
    "    U_1 = U_1.T\n",
    "    print(\"L^{-1} = \\n\", L_1)\n",
    "    print(\"U^{-1} = \\n\", U_1)\n",
    "    print(\"A^{-1} = \\n\", np.dot(U_1, L_1))\n",
    "    print(\"A.inv = \\n\", inv(A))\n",
    "    return np.dot(U_1, L_1)\n",
    "    \n",
    "print(\"A*my_inv(A) = \", np.dot(A, my_inv(A, 3)))\n",
    "A = np.array([[1., 1., 1.], [0., 1., 2.], [7, 1., 4.]])\n",
    "print(\"A*inv(A) = \", np.dot(A, inv(A)))\n",
    "        \n",
    "    "
   ]
  },
  {
   "cell_type": "code",
   "execution_count": 19,
   "metadata": {},
   "outputs": [
    {
     "name": "stdout",
     "output_type": "stream",
     "text": [
      "L = \n",
      " [[ 1.  0.  0.]\n",
      " [ 0.  1.  0.]\n",
      " [ 7. -6.  1.]]\n",
      "U = \n",
      " [[1. 1. 1.]\n",
      " [0. 1. 2.]\n",
      " [0. 0. 9.]]\n",
      "L^{-1} = \n",
      " [[ 1.  0.  0.]\n",
      " [ 0.  1.  0.]\n",
      " [-7.  6.  1.]]\n",
      "U^{-1} = \n",
      " [[ 1.         -1.          0.11111111]\n",
      " [ 0.          1.         -0.22222222]\n",
      " [ 0.          0.          0.11111111]]\n",
      "A^{-1} = \n",
      " [[ 0.22222222 -0.33333333  0.11111111]\n",
      " [ 1.55555556 -0.33333333 -0.22222222]\n",
      " [-0.77777778  0.66666667  0.11111111]]\n",
      "A.inv = \n",
      " [[ 0.22222222 -0.33333333  0.11111111]\n",
      " [ 1.55555556 -0.33333333 -0.22222222]\n",
      " [-0.77777778  0.66666667  0.11111111]]\n",
      "Ошибка в первой норме 8.326672684688674e-17\n"
     ]
    }
   ],
   "source": [
    "A = np.array([[1., 1., 1.], [0., 1., 2.], [7, 1., 4.]])\n",
    "A_1 = my_inv(A, 3)\n",
    "print(\"Ошибка в первой норме\", la.norm(inv(A) - A_1, ord=1))"
   ]
  },
  {
   "cell_type": "code",
   "execution_count": null,
   "metadata": {},
   "outputs": [],
   "source": []
  }
 ],
 "metadata": {
  "anaconda-cloud": {},
  "kernelspec": {
   "display_name": "Python 3",
   "language": "python",
   "name": "python3"
  },
  "language_info": {
   "codemirror_mode": {
    "name": "ipython",
    "version": 3
   },
   "file_extension": ".py",
   "mimetype": "text/x-python",
   "name": "python",
   "nbconvert_exporter": "python",
   "pygments_lexer": "ipython3",
   "version": "3.8.8"
  }
 },
 "nbformat": 4,
 "nbformat_minor": 2
}
